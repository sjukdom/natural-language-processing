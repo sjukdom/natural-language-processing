{
 "cells": [
  {
   "cell_type": "markdown",
   "metadata": {
    "colab_type": "text",
    "id": "tcSTP9oRmSRA"
   },
   "source": [
    "# Practica 2"
   ]
  },
  {
   "cell_type": "code",
   "execution_count": 1,
   "metadata": {
    "colab": {
     "base_uri": "https://localhost:8080/",
     "height": 54
    },
    "colab_type": "code",
    "id": "_E2tBqzPmSRG",
    "outputId": "71b14ac2-7c5d-4a18-f96f-c819b9326b99"
   },
   "outputs": [],
   "source": [
    "import nltk\n",
    "import pickle\n",
    "import numpy as np\n",
    "from unidecode import unidecode\n",
    "from matplotlib import pyplot as plt\n",
    "from nltk.stem.snowball import SnowballStemmer\n",
    "#nltk.download('punkt')\n",
    "%matplotlib inline"
   ]
  },
  {
   "cell_type": "code",
   "execution_count": 2,
   "metadata": {
    "colab": {},
    "colab_type": "code",
    "id": "JbbF5OdMmSRR"
   },
   "outputs": [],
   "source": [
    "with open('corpusML.txt', 'r') as f:\n",
    "    corpus = f.readlines()"
   ]
  },
  {
   "cell_type": "code",
   "execution_count": 3,
   "metadata": {
    "colab": {},
    "colab_type": "code",
    "id": "W9W5gl73mSRZ"
   },
   "outputs": [],
   "source": [
    "corpus = [unidecode(line.lower()) for line in corpus]"
   ]
  },
  {
   "cell_type": "code",
   "execution_count": 4,
   "metadata": {
    "colab": {
     "base_uri": "https://localhost:8080/",
     "height": 54
    },
    "colab_type": "code",
    "id": "qUoSDWzCmSRh",
    "outputId": "5c2d008e-7279-40f8-d434-a3888121fdc1"
   },
   "outputs": [
    {
     "data": {
      "text/plain": [
       "['comence a trabajar y me pegaron, me maltrataron con chicote \\n',\n",
       " 'mis patrones me pegaron porque no me queria apurar, porque era flojo \\n']"
      ]
     },
     "execution_count": 4,
     "metadata": {},
     "output_type": "execute_result"
    }
   ],
   "source": [
    "corpus[0:2]"
   ]
  },
  {
   "cell_type": "markdown",
   "metadata": {
    "colab_type": "text",
    "id": "Q6lA3b_ImSRr"
   },
   "source": [
    "### 1, 2) Limpiar corpus y agregar simbolos de inicio y fin\n",
    "\n",
    "* Se limpia el corpus mediante el algoritmo de Porter para el lenguaje español. \n",
    "* A cada oracion del corpus, se le agrega el simbolo de inicio y fin. \n",
    "* Se crea el alfabeto $\\Sigma$ del corpus donde se almacenen unicamente los tipos "
   ]
  },
  {
   "cell_type": "code",
   "execution_count": 6,
   "metadata": {
    "colab": {},
    "colab_type": "code",
    "id": "Kqmg26AGmSRt"
   },
   "outputs": [],
   "source": [
    "stemmer = SnowballStemmer(\"spanish\")\n",
    "stems = []                                              # Lista de stems por cada oracion\n",
    "cleanedCorpus = []                                      # Corpus procesado con stemming\n",
    "Sigma = []                                              # Alfabeto del corpus (tipos)               \n",
    "\n",
    "for sentence in corpus:\n",
    "    tokens = nltk.word_tokenize(sentence)               # Obtener lista tokens\n",
    "    for tk in tokens:   \n",
    "        if tk.isalpha():                                # Validar token como caracter del alfabeto                                \n",
    "            stem = stemmer.stem(tk)                     # Aplicar algotimo de stemming\n",
    "            stems.append(stem)                          \n",
    "            if stem not in Sigma:                      \n",
    "                Sigma.append(stem)\n",
    "    s = '<BOS> ' + ' '.join(stems) + ' <EOS>'           # Agregar simbolos de inicio y fin\n",
    "    cleanedCorpus.append(s)                             # Agregar oracion procesada a la lista del corpus limpio                               \n",
    "    stems.clear()\n",
    "\n",
    "# Agregar simbolos de inicio y fin al alfabeto\n",
    "Sigma.append('<BOS>')\n",
    "Sigma.append('<EOS>')"
   ]
  },
  {
   "cell_type": "code",
   "execution_count": 7,
   "metadata": {
    "colab": {
     "base_uri": "https://localhost:8080/",
     "height": 72
    },
    "colab_type": "code",
    "id": "Nl9p4iTemSRy",
    "outputId": "a03bdc6c-3798-4058-914b-541a92189e5d"
   },
   "outputs": [
    {
     "data": {
      "text/plain": [
       "['<BOS> comenc a trabaj y me peg me maltrat con chicot <EOS>',\n",
       " '<BOS> mis patron me peg porqu no me queri apur porqu era floj <EOS>',\n",
       " '<BOS> por eso me habi peg <EOS>']"
      ]
     },
     "execution_count": 7,
     "metadata": {},
     "output_type": "execute_result"
    }
   ],
   "source": [
    "cleanedCorpus[:3]"
   ]
  },
  {
   "cell_type": "code",
   "execution_count": 8,
   "metadata": {
    "colab": {
     "base_uri": "https://localhost:8080/",
     "height": 201
    },
    "colab_type": "code",
    "id": "f-wuyNUVmSR6",
    "outputId": "b7687372-a7ad-4cd5-dd4c-f8285a24055e"
   },
   "outputs": [
    {
     "data": {
      "text/plain": [
       "['cab',\n",
       " 'bebecit',\n",
       " 'tabiqu',\n",
       " 'calent',\n",
       " 'pajuel',\n",
       " 'vapor',\n",
       " 'quemart',\n",
       " 'cai',\n",
       " '<BOS>',\n",
       " '<EOS>']"
      ]
     },
     "execution_count": 8,
     "metadata": {},
     "output_type": "execute_result"
    }
   ],
   "source": [
    "Sigma[-10:]"
   ]
  },
  {
   "cell_type": "markdown",
   "metadata": {
    "colab_type": "text",
    "id": "dP_A9dbrmSSF"
   },
   "source": [
    "### 3) Obtener los bigramas"
   ]
  },
  {
   "cell_type": "code",
   "execution_count": 9,
   "metadata": {
    "colab": {},
    "colab_type": "code",
    "id": "iQT-0gNhmSSK"
   },
   "outputs": [],
   "source": [
    "def bigrams(sequence):\n",
    "    s = sequence.split()\n",
    "    return [(wi, wj) for wi, wj in zip(s[:-1], s[1:])]"
   ]
  },
  {
   "cell_type": "code",
   "execution_count": 10,
   "metadata": {
    "colab": {},
    "colab_type": "code",
    "id": "QmYaP-pSmSSZ"
   },
   "outputs": [],
   "source": [
    "# Obtener los bigramas del corpus limpio\n",
    "sentence_bigrams = [bigrams(s) for s in cleanedCorpus]"
   ]
  },
  {
   "cell_type": "code",
   "execution_count": 11,
   "metadata": {
    "colab": {
     "base_uri": "https://localhost:8080/",
     "height": 219
    },
    "colab_type": "code",
    "id": "jUPuGfnzmSSg",
    "outputId": "94761f5c-b7c0-4d1c-afd1-7b745c6a1f1e"
   },
   "outputs": [
    {
     "data": {
      "text/plain": [
       "[('<BOS>', 'comenc'),\n",
       " ('comenc', 'a'),\n",
       " ('a', 'trabaj'),\n",
       " ('trabaj', 'y'),\n",
       " ('y', 'me'),\n",
       " ('me', 'peg'),\n",
       " ('peg', 'me'),\n",
       " ('me', 'maltrat'),\n",
       " ('maltrat', 'con'),\n",
       " ('con', 'chicot'),\n",
       " ('chicot', '<EOS>')]"
      ]
     },
     "execution_count": 11,
     "metadata": {},
     "output_type": "execute_result"
    }
   ],
   "source": [
    "sentence_bigrams[0]"
   ]
  },
  {
   "cell_type": "code",
   "execution_count": 12,
   "metadata": {
    "colab": {},
    "colab_type": "code",
    "id": "7ZoT7VkCmSSo"
   },
   "outputs": [],
   "source": [
    "# Bigramas de todo el corpus\n",
    "corpus_bigrams = [bigram for sentence in sentence_bigrams for bigram in sentence]"
   ]
  },
  {
   "cell_type": "code",
   "execution_count": 13,
   "metadata": {
    "colab": {},
    "colab_type": "code",
    "id": "myOHGiPxmSS7"
   },
   "outputs": [],
   "source": [
    "# Obtener los vectores one hot de cada palabra en el corpus\n",
    "oneHotMatrix = np.identity(len(Sigma))"
   ]
  },
  {
   "cell_type": "code",
   "execution_count": 14,
   "metadata": {
    "colab": {},
    "colab_type": "code",
    "id": "fNmrEckumSTA"
   },
   "outputs": [],
   "source": [
    "word2oneHot = {}        # Entrada: palabra del alfabeto, Salida: vector one hot\n",
    "word2number = {}        # Entrada: palabra del alfabeto, Salida: indice en la lista del alfabeto\n",
    "oneHot2word = {}        # Entrada: vector one hot (caracteres), Salida: palabra del alfabeto\n",
    "\n",
    "for i, (word, vector) in enumerate(zip(Sigma, oneHotMatrix)):\n",
    "    word2oneHot[word] = vector\n",
    "    word2number[word] = i\n",
    "    oneHot2word[np.where(vector==1)[0][0]] = word"
   ]
  },
  {
   "cell_type": "code",
   "execution_count": 15,
   "metadata": {
    "colab": {
     "base_uri": "https://localhost:8080/",
     "height": 35
    },
    "colab_type": "code",
    "id": "G6er5MpFmSTH",
    "outputId": "033bea6b-5e86-4775-dbdf-1375c8c1b96d"
   },
   "outputs": [
    {
     "data": {
      "text/plain": [
       "array([0., 0., 0., ..., 0., 0., 1.])"
      ]
     },
     "execution_count": 15,
     "metadata": {},
     "output_type": "execute_result"
    }
   ],
   "source": [
    "word2oneHot['<EOS>']"
   ]
  },
  {
   "cell_type": "code",
   "execution_count": 16,
   "metadata": {
    "colab": {
     "base_uri": "https://localhost:8080/",
     "height": 35
    },
    "colab_type": "code",
    "id": "JUecUaCjmSTP",
    "outputId": "edb65d70-7d29-4dfa-e1af-c2bab3386856"
   },
   "outputs": [
    {
     "data": {
      "text/plain": [
       "1215"
      ]
     },
     "execution_count": 16,
     "metadata": {},
     "output_type": "execute_result"
    }
   ],
   "source": [
    "word2number['<EOS>']"
   ]
  },
  {
   "cell_type": "markdown",
   "metadata": {
    "colab_type": "text",
    "id": "coOlu5LImSTc"
   },
   "source": [
    "### 4) Entrenar la red neuronal con los bigramas"
   ]
  },
  {
   "cell_type": "markdown",
   "metadata": {
    "colab_type": "text",
    "id": "WE8kqhBhmSTh"
   },
   "source": [
    "Dados los bigramas del corpus $(w_i, w_j)$, la red neuronal word2vec es entrenada tomando como entrada y salida a la representacion vectorial *one hot encoded* de la palabra $w_i$ y la palabra $w_j$ respectivamente."
   ]
  },
  {
   "cell_type": "code",
   "execution_count": 17,
   "metadata": {
    "colab": {},
    "colab_type": "code",
    "id": "r2es5ygiEEDl"
   },
   "outputs": [],
   "source": [
    "class word2vec():\n",
    "    def __init__(self, d, N, weights):\n",
    "        if weights:\n",
    "            self.U = weights[0]\n",
    "            self.W = weights[1]\n",
    "        else:\n",
    "            self.U = np.random.randn(d, N)*np.sqrt(1/(d+N)) \n",
    "            self.W = np.random.randn(N, d)*np.sqrt(1/(d+N)) \n",
    "            \n",
    "    def softmax(self, x):\n",
    "        exp = np.exp(x-np.max(x))\n",
    "        return np.divide(exp, np.sum(exp))\n",
    "    \n",
    "    def predict(self, x):\n",
    "        h = np.dot(self.U, x)\n",
    "        a = np.dot(self.W, h)\n",
    "        return self.softmax(a)\n",
    "    \n",
    "    def fit(self, bigrams, lr, epochs):\n",
    "        lossWi = []\n",
    "        loss = []\n",
    "        for epoch in range(epochs):\n",
    "            for k, (wi, wj) in enumerate(bigrams):\n",
    "                x = word2oneHot[wi]\n",
    "                y = word2oneHot[wj]\n",
    "                # Feedforward\n",
    "                h = self.U[:, np.where(x==1)[0][0]]\n",
    "                a = self.softmax(np.dot(self.W, h))\n",
    "                # Calcular error\n",
    "                error = a - y\n",
    "                # ---- Calcular funcion de perdida ----\n",
    "                lossWi.append(np.log(a[np.where(y==1)[0][0]]+0.0000000000001))\n",
    "                if k == len(bigrams)-1:\n",
    "                    loss.append(-np.sum(lossWi))\n",
    "                    lossWi.clear()\n",
    "                    print('EPOCH ({}) = {}'.format(epoch+1, loss[epoch]))\n",
    "                # -------------------------------------\n",
    "                # Backpropragation\n",
    "                dW = np.outer(error, h)\n",
    "                self.W -= lr*dW\n",
    "                dU = np.dot(self.W.T, error)\n",
    "                self.U[:, np.where(x==1)[0][0]] -= lr*dU\n",
    "        return loss"
   ]
  },
  {
   "cell_type": "code",
   "execution_count": 18,
   "metadata": {
    "colab": {},
    "colab_type": "code",
    "id": "XXk5_YfhGypu"
   },
   "outputs": [],
   "source": [
    "w2v = word2vec(300, len(Sigma), None)"
   ]
  },
  {
   "cell_type": "code",
   "execution_count": null,
   "metadata": {
    "colab": {
     "base_uri": "https://localhost:8080/",
     "height": 15387
    },
    "colab_type": "code",
    "id": "V87h_2UmHDFF",
    "outputId": "678a9893-f790-4653-cf7c-676b36877e8d"
   },
   "outputs": [
    {
     "name": "stdout",
     "output_type": "stream",
     "text": [
      "EPOCH (1) = 88288.10368198364\n",
      "EPOCH (2) = 85038.10596235638\n",
      "EPOCH (3) = 81512.13781314876\n",
      "EPOCH (4) = 77543.75249367247\n",
      "EPOCH (5) = 73445.02697879684\n",
      "EPOCH (6) = 70067.39485566267\n",
      "EPOCH (7) = 67465.73981033766\n",
      "EPOCH (8) = 65340.72903615939\n",
      "EPOCH (9) = 63530.147974573236\n",
      "EPOCH (10) = 61943.68429566639\n",
      "EPOCH (11) = 60567.47221742553\n",
      "EPOCH (12) = 59377.40178469819\n",
      "EPOCH (13) = 58346.58790664731\n",
      "EPOCH (14) = 57446.01686674188\n",
      "EPOCH (15) = 56643.859373019804\n",
      "EPOCH (16) = 55914.633279900176\n",
      "EPOCH (17) = 55241.21941755677\n",
      "EPOCH (18) = 54613.415030883065\n",
      "EPOCH (19) = 54025.42809253452\n",
      "EPOCH (20) = 53473.80039028346\n",
      "EPOCH (21) = 52955.05735191031\n",
      "EPOCH (22) = 52464.74890822822\n",
      "EPOCH (23) = 51998.5740165076\n",
      "EPOCH (24) = 51553.41494674146\n",
      "EPOCH (25) = 51127.419951420816\n",
      "EPOCH (26) = 50719.68777796246\n",
      "EPOCH (27) = 50329.923237581446\n",
      "EPOCH (28) = 49957.9036116905\n",
      "EPOCH (29) = 49602.859088788435\n",
      "EPOCH (30) = 49263.553887862996\n",
      "EPOCH (31) = 48938.91178020158\n",
      "EPOCH (32) = 48628.29223342652\n",
      "EPOCH (33) = 48331.39167606687\n",
      "EPOCH (34) = 48048.135682490596\n",
      "EPOCH (35) = 47778.67895234772\n",
      "EPOCH (36) = 47523.43122424016\n",
      "EPOCH (37) = 47283.027990037845\n",
      "EPOCH (38) = 47058.28985362359\n",
      "EPOCH (39) = 46850.27679314485\n",
      "EPOCH (40) = 46660.456949598636\n",
      "EPOCH (41) = 46490.94818622248\n",
      "EPOCH (42) = 46344.82150960098\n",
      "EPOCH (43) = 46226.46750374829\n",
      "EPOCH (44) = 46142.15334704389\n",
      "EPOCH (45) = 46101.14381119172\n",
      "EPOCH (46) = 46117.59105331145\n",
      "EPOCH (47) = 46212.38888696842\n",
      "EPOCH (48) = 46413.61607709695\n",
      "EPOCH (49) = 46757.63761744872\n",
      "EPOCH (50) = 47297.45859414114\n",
      "EPOCH (51) = 48136.18591992583\n",
      "EPOCH (52) = 49440.33683438371\n",
      "EPOCH (53) = 51238.957933619255\n",
      "EPOCH (54) = 53454.722342235495\n",
      "EPOCH (55) = 56082.49404804189\n",
      "EPOCH (56) = 59164.231564562775\n",
      "EPOCH (57) = 62765.08077165726\n",
      "EPOCH (58) = 66937.78853674832\n",
      "EPOCH (59) = 71503.50955202206\n",
      "EPOCH (60) = 75522.16990126568\n",
      "EPOCH (61) = 78085.21687472801\n",
      "EPOCH (62) = 79191.02553899607\n",
      "EPOCH (63) = 79460.09336548919\n",
      "EPOCH (64) = 79424.72432153278\n",
      "EPOCH (65) = 79321.80064915007\n",
      "EPOCH (66) = 79212.56722733508\n",
      "EPOCH (67) = 79107.39811275751\n",
      "EPOCH (68) = 79006.42718451498\n",
      "EPOCH (69) = 78909.48658260144\n"
     ]
    }
   ],
   "source": [
    "%%time\n",
    "err = w2v.fit(corpus_bigrams, 0.001, 100)"
   ]
  },
  {
   "cell_type": "code",
   "execution_count": 0,
   "metadata": {
    "colab": {},
    "colab_type": "code",
    "id": "Q2W8oRYEmSUK"
   },
   "outputs": [],
   "source": [
    "# Guardar parametros de la red\n",
    "with open(path + 'weights.pickle', 'wb') as file:\n",
    "    pickle.dump([w2v.U, w2v.W, err], file)"
   ]
  },
  {
   "cell_type": "code",
   "execution_count": 0,
   "metadata": {
    "colab": {},
    "colab_type": "code",
    "id": "Wgiy2gWJmSUQ"
   },
   "outputs": [],
   "source": [
    "# Leer el archivo con los parametros\n",
    "# y verificar que sean correctos\n",
    "with open(path + 'weights.pickle', 'rb') as file:\n",
    "    U, W, err = pickle.load(file)"
   ]
  },
  {
   "cell_type": "code",
   "execution_count": 0,
   "metadata": {
    "colab": {
     "base_uri": "https://localhost:8080/",
     "height": 109
    },
    "colab_type": "code",
    "id": "qASSqgWgmSUd",
    "outputId": "3ad4e242-ce5a-448a-d0ce-e0bb990a473c"
   },
   "outputs": [
    {
     "name": "stdout",
     "output_type": "stream",
     "text": [
      "Suma =  1.0000000000000002\n",
      "Indice palabra pred =  148\n",
      "Prediccion =  dos\n",
      "P(dos|las) = 0.06175388656226358\n",
      "las dos\n"
     ]
    }
   ],
   "source": [
    "# Prueba de prediccion\n",
    "word = 'las'\n",
    "wordVector = word2oneHot[stemmer.stem(word)]\n",
    "pred = predict(wordVector)\n",
    "print('Suma = ', np.sum(pred))                    # Suma para verificar que sea igual a 1\n",
    "indice = np.argmax(pred)                          # Indice de la palabra con mayor probilidad\n",
    "word_predicted = oneHot2word[indice] \n",
    "\n",
    "print('Indice palabra pred = ', indice)\n",
    "print('Prediccion = ', word_predicted)\n",
    "print('P({}|{}) = {}'.format(word_predicted, word, pred[indice]))\n",
    "print(word + ' ' + word_predicted)"
   ]
  },
  {
   "cell_type": "code",
   "execution_count": 0,
   "metadata": {
    "colab": {},
    "colab_type": "code",
    "id": "QWnA8xBamSUm",
    "outputId": "b04c115f-8d03-474c-8cbc-00143d89291a"
   },
   "outputs": [
    {
     "data": {
      "image/png": "[encoded data removed]",
      "text/plain": [
       "<Figure size 720x360 with 1 Axes>"
      ]
     },
     "metadata": {
      "needs_background": "light",
      "tags": []
     },
     "output_type": "display_data"
    }
   ],
   "source": [
    "plt.figure(figsize=(10,5))\n",
    "plt.title('')\n",
    "plt.plot(err, 'r')\n",
    "plt.xlabel('Epochs')\n",
    "plt.ylabel('Loss')\n",
    "plt.grid()\n",
    "plt.show()"
   ]
  },
  {
   "cell_type": "markdown",
   "metadata": {
    "colab_type": "text",
    "id": "dVn2uz5imSUt"
   },
   "source": [
    "### 5) Obtener las matrices $A$ y $\\Pi$"
   ]
  },
  {
   "cell_type": "code",
   "execution_count": 0,
   "metadata": {
    "colab": {},
    "colab_type": "code",
    "id": "2GiBAYj7mSUu"
   },
   "outputs": [],
   "source": [
    "# Para cada palabra del alfabeto, predecir el vector de probabilidades\n",
    "# y agruparlos por columna para hacer la matriz A\n",
    "\n",
    "# A = []\n",
    "\n",
    "# for wj in Sigma[:-2]:\n",
    "#     aj = predict(word2oneHot[wj])\n",
    "#     A.append(list(aj))\n",
    "    \n",
    "# A = np.matrix(A).T"
   ]
  },
  {
   "cell_type": "code",
   "execution_count": 0,
   "metadata": {
    "colab": {},
    "colab_type": "code",
    "id": "SCaWMrzEmSUx"
   },
   "outputs": [],
   "source": [
    "# El vector de inicio se obtiene al predecir la distribucion\n",
    "# para el simbolo <BOS>\n",
    "# Pi = predict(word2oneHot['<BOS>'])"
   ]
  },
  {
   "cell_type": "markdown",
   "metadata": {
    "colab_type": "text",
    "id": "baCL2lS2mSUz"
   },
   "source": [
    "### 6) Calcular la propabilidad de las siguientes oraciones\n",
    "\n",
    "Se calcularan usando la propiedad de Markov que establece que:\n",
    "\n",
    "$p(x_1,...,x_n)=\\prod_{i=1}^{n}p(w_{i}|w_{i-1})$"
   ]
  },
  {
   "cell_type": "markdown",
   "metadata": {
    "colab_type": "text",
    "id": "RnysZ4akmSUz"
   },
   "source": [
    "1) Nos bañamos con agua caliente\n",
    "\n",
    "$p(caliente|agua)p(agua|con)p(con|banamos)p(banamos|nos)p(nos|BOS)$"
   ]
  },
  {
   "cell_type": "code",
   "execution_count": 0,
   "metadata": {
    "colab": {},
    "colab_type": "code",
    "id": "Fa5gqXMSmSU1"
   },
   "outputs": [],
   "source": [
    "#s1 = 'Nos banamos con agua caliente'.split()\n",
    "# s1 = '<BOS> pascuala ordenaba las vacas'.split()\n",
    "# s1[1:] = [stemmer.stem(word.lower()) for word in s[1:]]"
   ]
  },
  {
   "cell_type": "code",
   "execution_count": 0,
   "metadata": {
    "colab": {},
    "colab_type": "code",
    "id": "h12Aw7GfmSU3"
   },
   "outputs": [],
   "source": [
    "#j = word2number['las']\n",
    "#i = word2number['vacas']\n",
    "\n",
    "#A[i,j]"
   ]
  },
  {
   "cell_type": "code",
   "execution_count": 0,
   "metadata": {
    "colab": {},
    "colab_type": "code",
    "id": "iy6Q8l5UmSU5"
   },
   "outputs": [],
   "source": [
    "#Pi[word2number['pues']]"
   ]
  },
  {
   "cell_type": "code",
   "execution_count": 0,
   "metadata": {
    "colab": {},
    "colab_type": "code",
    "id": "RqgkKlGumSU7",
    "outputId": "09a8823d-d4e5-4116-b7a1-338b0dfd4688"
   },
   "outputs": [
    {
     "name": "stdout",
     "output_type": "stream",
     "text": [
      "p(s) =  2.425589910422211e-19\n"
     ]
    }
   ],
   "source": [
    "# p = 1\n",
    "\n",
    "# for wi, wj in zip(s[:-1], s[1:]):\n",
    "#     if wi == '<BOS>':\n",
    "#         p *= Pi[word2number[wj]]\n",
    "#     else:\n",
    "#         i = word2number[wj]\n",
    "#         j = word2number[wi]\n",
    "#         p *= A[i,j]\n",
    "        \n",
    "# print('p(s) = ', p)"
   ]
  },
  {
   "cell_type": "markdown",
   "metadata": {
    "colab_type": "text",
    "id": "u3BbKqxBJpLI"
   },
   "source": [
    "2) El animalito le olía la cabeza\n",
    "\n",
    "$p(cabeza|la)p(la|olía)p(olía|le)p(le|animalito)p(animalito|El)p(El|BOS)$"
   ]
  },
  {
   "cell_type": "code",
   "execution_count": 0,
   "metadata": {
    "colab": {},
    "colab_type": "code",
    "id": "jY2H8EG-KjRX"
   },
   "outputs": [],
   "source": []
  },
  {
   "cell_type": "markdown",
   "metadata": {
    "colab_type": "text",
    "id": "8AUjRhJuKkZ5"
   },
   "source": [
    "3) Pascuala ordeñaba las vacas\n",
    "\n",
    "$p(vacas|las)p(las|ordeñaba)p(ordeñaba|Pascuala)p(Pascuala|BOS)$"
   ]
  },
  {
   "cell_type": "code",
   "execution_count": 0,
   "metadata": {
    "colab": {},
    "colab_type": "code",
    "id": "Z44ZSwwQK7gM"
   },
   "outputs": [],
   "source": []
  },
  {
   "cell_type": "code",
   "execution_count": 0,
   "metadata": {
    "colab": {},
    "colab_type": "code",
    "id": "yUSzh352uQBK"
   },
   "outputs": [],
   "source": [
    "jhyjk"
   ]
  },
  {
   "cell_type": "markdown",
   "metadata": {
    "colab_type": "text",
    "id": "AMXWBr4kuVmv"
   },
   "source": [
    "jygyuguui\n"
   ]
  }
 ],
 "metadata": {
  "colab": {
   "collapsed_sections": [],
   "name": "Practica2.ipynb",
   "provenance": [],
   "version": "0.3.2"
  },
  "kernelspec": {
   "display_name": "Python 3",
   "language": "python",
   "name": "python3"
  },
  "language_info": {
   "codemirror_mode": {
    "name": "ipython",
    "version": 3
   },
   "file_extension": ".py",
   "mimetype": "text/x-python",
   "name": "python",
   "nbconvert_exporter": "python",
   "pygments_lexer": "ipython3",
   "version": "3.7.1"
  }
 },
 "nbformat": 4,
 "nbformat_minor": 1
}
