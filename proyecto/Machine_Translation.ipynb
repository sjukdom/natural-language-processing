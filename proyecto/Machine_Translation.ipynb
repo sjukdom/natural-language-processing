{
 "cells": [
  {
   "cell_type": "code",
   "execution_count": 2,
   "metadata": {},
   "outputs": [],
   "source": [
    "import torch \n",
    "from nltk import ngrams"
   ]
  },
  {
   "cell_type": "markdown",
   "metadata": {},
   "source": [
    "## Lectura y preprocesamiento del corpus"
   ]
  },
  {
   "cell_type": "code",
   "execution_count": 42,
   "metadata": {},
   "outputs": [],
   "source": [
    "with open('Corpus/data_test.txt', 'r') as file:\n",
    "    corpus_raw_training = file.read()"
   ]
  },
  {
   "cell_type": "code",
   "execution_count": 61,
   "metadata": {},
   "outputs": [
    {
     "data": {
      "text/plain": [
       "['we therefore respect whatever parliament may decide ',\n",
       " 'quindi noi rispettiamo le eventuali decisioni in materia del parlamento']"
      ]
     },
     "execution_count": 61,
     "metadata": {},
     "output_type": "execute_result"
    }
   ],
   "source": [
    "test_corpus = [sentence.split('\\t') for sentence in corpus_raw_training.split('\\n')]\n",
    "test_corpus[0]"
   ]
  },
  {
   "cell_type": "code",
   "execution_count": 129,
   "metadata": {},
   "outputs": [
    {
     "name": "stdout",
     "output_type": "stream",
     "text": [
      "Ingles:\n",
      " <BOS> we therefore respect whatever parliament may decide  <EOS>\n",
      "\n",
      "Italiano:\n",
      " <BOS> quindi noi rispettiamo le eventuali decisioni in materia del parlamento <EOS>\n"
     ]
    }
   ],
   "source": [
    "en_corpus = []\n",
    "it_corpus = []\n",
    "\n",
    "for i, string_pair in enumerate(test_corpus):\n",
    "    if i != 900:\n",
    "        en_corpus.append('<BOS> ' + string_pair[0] + ' <EOS>')\n",
    "        it_corpus.append('<BOS> ' + string_pair[1] + ' <EOS>')\n",
    "        \n",
    "print('Ingles:\\n', en_corpus[0])\n",
    "print('\\nItaliano:\\n', it_corpus[0])"
   ]
  },
  {
   "cell_type": "code",
   "execution_count": 102,
   "metadata": {},
   "outputs": [
    {
     "name": "stdout",
     "output_type": "stream",
     "text": [
      "Palabras en corpus ingles =  3157\n",
      "Palabras en corpus italiano =  4318\n"
     ]
    }
   ],
   "source": [
    "# Crear los alfabetos de ambos corpus\n",
    "en_dict = []\n",
    "it_dict = []\n",
    "\n",
    "for en_sent, it_sent in zip(en_corpus, it_corpus):\n",
    "    for en_word, it_word in zip(en_sent.split(), it_sent.split()):\n",
    "        if (en_word not in en_dict) and (en_word not in ['<BOS>', '<EOS>']):\n",
    "            en_dict.append(en_word)\n",
    "        if (it_word not in it_dict) and (it_word not in ['<BOS>', '<EOS>']):\n",
    "            it_dict.append(it_word)\n",
    "\n",
    "en_dict.append('<BOS>')\n",
    "it_dict.append('<BOS>')\n",
    "en_dict.append('<EOS>')\n",
    "it_dict.append('<EOS>')    \n",
    "\n",
    "print('Palabras en corpus ingles = ', len(en_dict)-2)\n",
    "print('Palabras en corpus italiano = ', len(it_dict)-2)"
   ]
  },
  {
   "cell_type": "code",
   "execution_count": 123,
   "metadata": {},
   "outputs": [],
   "source": [
    "# Creacion de diccionarios\n",
    "\n",
    "word2ENindx = {}\n",
    "indx2ENword = {}\n",
    "\n",
    "for idx, en_word in enumerate(en_dict):\n",
    "    word2ENindx[en_word] = idx\n",
    "    indx2ENword[idx] = en_word \n",
    "\n",
    "word2ITindx = {}\n",
    "indx2ITword = {}\n",
    "\n",
    "for idx, it_word in enumerate(it_dict):\n",
    "    word2ITindx[it_word] = idx\n",
    "    indx2ITword[idx] = it_word     "
   ]
  },
  {
   "cell_type": "markdown",
   "metadata": {},
   "source": [
    "### Obtener los bigramas de ambos corpus"
   ]
  },
  {
   "cell_type": "code",
   "execution_count": 116,
   "metadata": {},
   "outputs": [
    {
     "data": {
      "text/plain": [
       "[('<BOS>', 'we'),\n",
       " ('we', 'therefore'),\n",
       " ('therefore', 'respect'),\n",
       " ('respect', 'whatever'),\n",
       " ('whatever', 'parliament'),\n",
       " ('parliament', 'may'),\n",
       " ('may', 'decide'),\n",
       " ('decide', '<EOS>')]"
      ]
     },
     "execution_count": 116,
     "metadata": {},
     "output_type": "execute_result"
    }
   ],
   "source": [
    "en_bigrams = []\n",
    "\n",
    "for en_sent in en_corpus:\n",
    "    en_bigrams.append(list(ngrams(en_sent.split(), 2)))\n",
    "    \n",
    "en_bigrams[0]"
   ]
  },
  {
   "cell_type": "code",
   "execution_count": 130,
   "metadata": {},
   "outputs": [
    {
     "data": {
      "text/plain": [
       "[('<BOS>', 'quindi'),\n",
       " ('quindi', 'noi'),\n",
       " ('noi', 'rispettiamo'),\n",
       " ('rispettiamo', 'le'),\n",
       " ('le', 'eventuali'),\n",
       " ('eventuali', 'decisioni'),\n",
       " ('decisioni', 'in'),\n",
       " ('in', 'materia'),\n",
       " ('materia', 'del'),\n",
       " ('del', 'parlamento'),\n",
       " ('parlamento', '<EOS>')]"
      ]
     },
     "execution_count": 130,
     "metadata": {},
     "output_type": "execute_result"
    }
   ],
   "source": [
    "it_bigrams = []\n",
    "\n",
    "for it_sent in it_corpus:\n",
    "    it_bigrams.append(list(ngrams(it_sent.split(), 2)))\n",
    "    \n",
    "it_bigrams[0]"
   ]
  }
 ],
 "metadata": {
  "kernelspec": {
   "display_name": "Python 3",
   "language": "python",
   "name": "python3"
  },
  "language_info": {
   "codemirror_mode": {
    "name": "ipython",
    "version": 3
   },
   "file_extension": ".py",
   "mimetype": "text/x-python",
   "name": "python",
   "nbconvert_exporter": "python",
   "pygments_lexer": "ipython3",
   "version": "3.7.3"
  }
 },
 "nbformat": 4,
 "nbformat_minor": 2
}
