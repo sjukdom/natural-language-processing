{
 "cells": [
  {
   "cell_type": "markdown",
   "metadata": {},
   "source": [
    "# Reconocimiento de Entidades Nombradas\n",
    "\n",
    "El objetivo es identificar entidades nombradas en un corpus del area de genetica. Las etiquetas que se buscan indican si se trata de un gen o no. Debe tomarse en cuenta que las entidades nombradas pueden constar de mas de un elemento. Por tanto, se utiliza un etiquetado BIO.\n",
    "\n",
    "Las etiquetas son como siguen:\n",
    "1. __B-tag__ indica el inicio de una entidad (de izquierda a derecha).\n",
    "2. __I-tag__ indica que la palabra pertenece a una entidad etiquetada con B-tag. En este sentido, siempre debe existir una etiqueta B-tag, pero no necesariamente una I-tag.\n",
    "3. Finalmente la etiqueta __O__ indica que no se trata de una entidad nombrada."
   ]
  },
  {
   "cell_type": "markdown",
   "metadata": {},
   "source": [
    "## Cadenas Ocultas de Markov\n",
    "\n",
    "Para dar solucion al problema propuesto se usara el modelo de aprendizaje automatico Hidden Markov Model (HMM). Es importante establecer que para construir un HMM se necesitan llevar a cabo tres etapas:\n",
    "\n",
    "1. \n",
    "2. Decodificacion\n",
    "3. Aprendizaje"
   ]
  },
  {
   "cell_type": "markdown",
   "metadata": {},
   "source": [
    "### Construccion del modelo del lenguaje $\\lambda$\n",
    "\n",
    "Un modelo oculto de Markov se denota mediante la letra $\\lambda$ y es una 5-tupla:\n",
    "\n",
    "$$ \\lambda = (S, O, A, B, \\Pi) $$\n",
    "\n",
    "Donde: \n",
    "\n",
    "* $S = \\{s_1, ..., s_N\\}$\n",
    "* $O = \\{o_1, ..., o_T\\}$\n",
    "* $A = \\{a_{i,j}\\} = p(q_{t+1}=S_j|q_t=S_i)$\n",
    "* $B = \\{b_{i,j}\\} = p(q_t=o_i| q_t=Sj)$\n",
    "* $\\Pi = \\{\\Pi_i\\} = p(q_1=S_i)$"
   ]
  },
  {
   "cell_type": "code",
   "execution_count": 312,
   "metadata": {},
   "outputs": [],
   "source": [
    "import numpy as np\n",
    "from nltk import bigrams\n",
    "import re"
   ]
  },
  {
   "cell_type": "markdown",
   "metadata": {},
   "source": [
    "### Lectura y preprocesamiento del corpus\n",
    "\n",
    "El conjunto de estados ocultos $S$ se conformara por las etiquetas BIOS y el conjunto de simbolos de observacion $O$ seran las palabras."
   ]
  },
  {
   "cell_type": "code",
   "execution_count": 275,
   "metadata": {},
   "outputs": [],
   "source": [
    "with open('Final1/data_test.txt', 'r') as file:\n",
    "    raw_corpus = file.read().splitlines()"
   ]
  },
  {
   "cell_type": "code",
   "execution_count": 288,
   "metadata": {},
   "outputs": [
    {
     "data": {
      "text/plain": [
       "['IL-2\\tB-DNA',\n",
       " 'gene\\tI-DNA',\n",
       " 'expression\\tO',\n",
       " 'and\\tO',\n",
       " 'NF-kappa\\tB-protein',\n",
       " 'B\\tI-protein',\n",
       " 'activation\\tO',\n",
       " 'through\\tO',\n",
       " 'CD28\\tB-protein',\n",
       " 'requires\\tO']"
      ]
     },
     "execution_count": 288,
     "metadata": {},
     "output_type": "execute_result"
    }
   ],
   "source": [
    "raw_corpus[:10]"
   ]
  },
  {
   "cell_type": "code",
   "execution_count": 289,
   "metadata": {},
   "outputs": [],
   "source": [
    "corpus = {\n",
    "    'states': [],\n",
    "    'obs': []\n",
    "}\n",
    "\n",
    "S = []\n",
    "O = []\n",
    "\n",
    "\n",
    "string_obs = ''\n",
    "string_state = ''\n",
    "\n",
    "for phrase in raw_corpus:\n",
    "    if phrase == '' and len(string_obs) > 0 and len(string_state) > 0:\n",
    "        corpus['states'].append('<BOS> ' + string_state + ' <EOS>')\n",
    "        corpus['obs'].append('<BOS> ' + string_obs + ' <EOS>')\n",
    "        string_obs = ''\n",
    "        string_state = ''\n",
    "    try:\n",
    "        obs , state = phrase.split('\\t')\n",
    "        string_obs += obs + ' ' \n",
    "        string_state += state + ' '\n",
    "        # Creando conjuntos de simbolos\n",
    "        if obs not in O:\n",
    "            O.append(obs)\n",
    "        if state not in S:\n",
    "            S.append(state)\n",
    "    except:\n",
    "        pass"
   ]
  },
  {
   "cell_type": "code",
   "execution_count": 305,
   "metadata": {},
   "outputs": [
    {
     "name": "stdout",
     "output_type": "stream",
     "text": [
      "18\n",
      "['<BOS>', 'IL-2', 'gene', 'expression', 'and', 'NF-kappa', 'B', 'activation', 'through', 'CD28', 'requires', 'reactive', 'oxygen', 'production', 'by', '5-lipoxygenase', '.', '<EOS>']\n"
     ]
    }
   ],
   "source": [
    "print(len(corpus['obs'][0].split()))\n",
    "print(corpus['obs'][0].split())"
   ]
  },
  {
   "cell_type": "code",
   "execution_count": 306,
   "metadata": {},
   "outputs": [
    {
     "name": "stdout",
     "output_type": "stream",
     "text": [
      "18\n",
      "['<BOS>', 'B-DNA', 'I-DNA', 'O', 'O', 'B-protein', 'I-protein', 'O', 'O', 'B-protein', 'O', 'O', 'O', 'O', 'O', 'B-protein', 'O', '<EOS>']\n"
     ]
    }
   ],
   "source": [
    "print(len(corpus['states'][0].split()))\n",
    "print(corpus['states'][0].split())"
   ]
  },
  {
   "cell_type": "code",
   "execution_count": 292,
   "metadata": {},
   "outputs": [
    {
     "name": "stdout",
     "output_type": "stream",
     "text": [
      "Numero de estados =  11\n",
      "Alfabeto de observaciones =  22053\n"
     ]
    }
   ],
   "source": [
    "len_S = len(S)\n",
    "len_O = len(O)\n",
    "\n",
    "print('Numero de estados = ', len_S)\n",
    "print('Alfabeto de observaciones = ', len_O)"
   ]
  },
  {
   "cell_type": "markdown",
   "metadata": {},
   "source": [
    "### Obtener frecuencias de bigramas"
   ]
  },
  {
   "cell_type": "code",
   "execution_count": 316,
   "metadata": {},
   "outputs": [],
   "source": [
    "freq_states = {}\n",
    "freq_obs = {}\n",
    "freq_states2states = {}\n",
    "freq_states2obs = {}"
   ]
  },
  {
   "cell_type": "code",
   "execution_count": 344,
   "metadata": {},
   "outputs": [
    {
     "data": {
      "text/plain": [
       "[('<BOS>', 'B-DNA'),\n",
       " ('B-DNA', 'I-DNA'),\n",
       " ('I-DNA', 'O'),\n",
       " ('O', 'O'),\n",
       " ('O', 'B-protein'),\n",
       " ('B-protein', 'I-protein'),\n",
       " ('I-protein', 'O'),\n",
       " ('O', 'O'),\n",
       " ('O', 'B-protein'),\n",
       " ('B-protein', 'O'),\n",
       " ('O', 'O'),\n",
       " ('O', 'O'),\n",
       " ('O', 'O'),\n",
       " ('O', 'O'),\n",
       " ('O', 'B-protein'),\n",
       " ('B-protein', 'O'),\n",
       " ('O', '<EOS>')]"
      ]
     },
     "execution_count": 344,
     "metadata": {},
     "output_type": "execute_result"
    }
   ],
   "source": [
    "list(bigrams(corpus['states'][0].split()))"
   ]
  },
  {
   "cell_type": "code",
   "execution_count": 353,
   "metadata": {},
   "outputs": [],
   "source": [
    "for sstate, sobs in zip(corpus['states'], corpus['obs']):\n",
    "    tags = ['<BOS>', '<EOS>']\n",
    "    for si, sj in list(bigrams(sstate.split())):\n",
    "        if (si, sj) in freq_states2states:\n",
    "            freq_states2states[(si, sj)] += 1\n",
    "        else:\n",
    "            freq_states2states[(si, sj)] = 1\n",
    "\n",
    "    for si in sstate.split():\n",
    "        if si in freq_states:\n",
    "            freq_states[si] += 1\n",
    "        else:\n",
    "            freq_states[si] = 1\n",
    "            \n",
    "    for oi, sj in zip(sobs.split()[1:-1], sstate.split()[1:-1]):\n",
    "        if (oi, sj) not in freq_states2obs:\n",
    "            freq_states2obs[(oi, sj)] = 1\n",
    "        else:\n",
    "            freq_states2obs[(oi, sj)] += 1"
   ]
  },
  {
   "cell_type": "code",
   "execution_count": 381,
   "metadata": {},
   "outputs": [
    {
     "data": {
      "text/plain": [
       "{'<BOS>': 148299,\n",
       " 'B-DNA': 76259,\n",
       " 'I-DNA': 126187,\n",
       " 'O': 3062094,\n",
       " 'B-protein': 241921,\n",
       " 'I-protein': 198611,\n",
       " '<EOS>': 148299,\n",
       " 'B-cell_type': 53688,\n",
       " 'I-cell_type': 69872,\n",
       " 'B-cell_line': 30624,\n",
       " 'I-cell_line': 59032,\n",
       " 'B-RNA': 7608,\n",
       " 'I-RNA': 12240}"
      ]
     },
     "execution_count": 381,
     "metadata": {},
     "output_type": "execute_result"
    }
   ],
   "source": [
    "freq_states"
   ]
  },
  {
   "cell_type": "code",
   "execution_count": 423,
   "metadata": {},
   "outputs": [
    {
     "data": {
      "text/plain": [
       "0.009857730429505765"
      ]
     },
     "execution_count": 423,
     "metadata": {},
     "output_type": "execute_result"
    }
   ],
   "source": [
    "(freq_states2states[('<BOS>', S[0])]+1)/(freq_states['<BOS>']+ len_S)"
   ]
  },
  {
   "cell_type": "markdown",
   "metadata": {},
   "source": [
    "## Creacion del modelo del lenguaje\n",
    "\n",
    "El modelo del lenguaje sera construido al hacer las matrices $A$, $B$ y $\\Pi$, usando los alfabetos $S$ y $O$ obtenidos previamente.\n",
    "\n",
    "$a_{i,j} = p(q_{t+1}=S_i| q_t=S_j)$\n",
    "\n",
    "$p(q_{t+1}=S_i| q_t=S_j) = \\frac{fr(s_i, s_j) + 1}{fr(sj) + N}$ "
   ]
  },
  {
   "cell_type": "code",
   "execution_count": 358,
   "metadata": {},
   "outputs": [
    {
     "name": "stdout",
     "output_type": "stream",
     "text": [
      "(11, 11)\n",
      "(11, 22053)\n",
      "(11,)\n"
     ]
    }
   ],
   "source": [
    "# Inicializacion de matrices\n",
    "A = np.zeros((len_S, len_S))\n",
    "B = np.zeros((len_S, len_O))\n",
    "Pi = np.zeros(len_S)\n",
    "\n",
    "N = len_S\n",
    "\n",
    "print(A.shape)\n",
    "print(B.shape)\n",
    "print(Pi.shape)"
   ]
  },
  {
   "cell_type": "code",
   "execution_count": 431,
   "metadata": {},
   "outputs": [],
   "source": [
    "def smoothingLaplacian(wi, wj, N, sigma):\n",
    "    if sigma == 'state2state':\n",
    "        try:\n",
    "            return (freq_states2states[(wi, wj)] + 1) / (freq_states[wj] + N)\n",
    "        except: \n",
    "            return 1 / (freq_states[wj] + N)\n",
    "    elif sigma == 'state2obs':\n",
    "        try:\n",
    "            return (freq_states2obs[(wi, wj)] + 1) / (freq_obs[wj] + N)\n",
    "        except:\n",
    "            return 1 / (freq_obs[wj] + N)\n",
    "    elif sigma == 'initial':\n",
    "        try:\n",
    "            prob = (freq_states2states[('<BOS>', wi)] + 1) / (freq_states['<BOS>'] + N)\n",
    "        except:\n",
    "            prob = 1 / (freq_states['<BOS>'] + N)\n",
    "            \n",
    "    return prob"
   ]
  },
  {
   "cell_type": "code",
   "execution_count": 436,
   "metadata": {},
   "outputs": [
    {
     "name": "stdout",
     "output_type": "stream",
     "text": [
      "1.0067493763063853\n"
     ]
    }
   ],
   "source": [
    "print(smoothingLaplacian(S[2], S[0], N, 'initial'))"
   ]
  }
 ],
 "metadata": {
  "kernelspec": {
   "display_name": "Python 3",
   "language": "python",
   "name": "python3"
  },
  "language_info": {
   "codemirror_mode": {
    "name": "ipython",
    "version": 3
   },
   "file_extension": ".py",
   "mimetype": "text/x-python",
   "name": "python",
   "nbconvert_exporter": "python",
   "pygments_lexer": "ipython3",
   "version": "3.7.3"
  }
 },
 "nbformat": 4,
 "nbformat_minor": 2
}
